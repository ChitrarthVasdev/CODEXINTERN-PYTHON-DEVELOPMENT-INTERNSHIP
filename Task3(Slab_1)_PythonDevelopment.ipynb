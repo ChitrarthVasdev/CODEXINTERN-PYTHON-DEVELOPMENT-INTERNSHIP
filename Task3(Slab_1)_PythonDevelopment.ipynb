{
  "nbformat": 4,
  "nbformat_minor": 0,
  "metadata": {
    "colab": {
      "provenance": [],
      "authorship_tag": "ABX9TyOIb6bSrRgsnOGZMv2EuyTv",
      "include_colab_link": true
    },
    "kernelspec": {
      "name": "python3",
      "display_name": "Python 3"
    },
    "language_info": {
      "name": "python"
    }
  },
  "cells": [
    {
      "cell_type": "markdown",
      "metadata": {
        "id": "view-in-github",
        "colab_type": "text"
      },
      "source": [
        "<a href=\"https://colab.research.google.com/github/ChitrarthVasdev/CODEXINTERN-PYTHON-DEVELOPMENT-INTERNSHIP/blob/main/Task3(Slab_1)_PythonDevelopment.ipynb\" target=\"_parent\"><img src=\"https://colab.research.google.com/assets/colab-badge.svg\" alt=\"Open In Colab\"/></a>"
      ]
    },
    {
      "cell_type": "code",
      "source": [
        "%%writefile matrix_app.py\n",
        "\n",
        "import streamlit as st\n",
        "import numpy as np\n",
        "\n",
        "st.title(\"Matrix Operations Tool\")\n",
        "\n",
        "rows = st.number_input(\"Number of rows\", 1, 5, 2)\n",
        "cols = st.number_input(\"Number of columns\", 1, 5, 2)\n",
        "\n",
        "matrix_a = []\n",
        "matrix_b = []\n",
        "\n",
        "st.write(\"Enter values for Matrix A:\")\n",
        "for i in range(rows):\n",
        "    row = [st.number_input(f\"A[{i+1}][{j+1}]\", key=f\"a_{i}_{j}\") for j in range(cols)]\n",
        "    matrix_a.append(row)\n",
        "\n",
        "st.write(\"Enter values for Matrix B:\")\n",
        "for i in range(rows):\n",
        "    row = [st.number_input(f\"B[{i+1}][{j+1}]\", key=f\"b_{i}_{j}\") for j in range(cols)]\n",
        "    matrix_b.append(row)\n",
        "\n",
        "a = np.array(matrix_a)\n",
        "b = np.array(matrix_b)\n",
        "\n",
        "if st.button(\"Add\"):\n",
        "    st.write(\"A + B =\")\n",
        "    st.write(a + b)\n",
        "\n",
        "if st.button(\"Subtract\"):\n",
        "    st.write(\"A - B =\")\n",
        "    st.write(a - b)\n",
        "\n",
        "if st.button(\"Multiply\"):\n",
        "    if a.shape[1] == b.shape[0]:\n",
        "        st.write(\"A x B =\")\n",
        "        st.write(np.matmul(a, b))\n",
        "    else:\n",
        "        st.write(\"Matrix multiplication not possible (incompatible shapes).\")\n",
        "\n",
        "if st.button(\"Transpose A\"):\n",
        "    st.write(\"Transpose of A =\")\n",
        "    st.write(a.T)\n",
        "\n",
        "if st.button(\"Determinant of A\"):\n",
        "    if a.shape[0] == a.shape[1]:\n",
        "        st.write(\"Determinant of A =\", np.linalg.det(a))\n",
        "    else:\n",
        "        st.write(\"Matrix A must be square to compute determinant.\")\n"
      ],
      "metadata": {
        "colab": {
          "base_uri": "https://localhost:8080/"
        },
        "id": "QXcUNLQLiPHw",
        "outputId": "b0d087e0-50a9-4599-896f-0b1bed0d0717"
      },
      "execution_count": null,
      "outputs": [
        {
          "output_type": "stream",
          "name": "stdout",
          "text": [
            "Writing matrix_app.py\n"
          ]
        }
      ]
    },
    {
      "cell_type": "code",
      "source": [
        "from pyngrok import ngrok\n",
        "ngrok.set_auth_token(\"2zzk95ALDjhwIMpYx2bRZyvg7aB_2VmBeFsa8Z9Zbie4X1kbp\")\n"
      ],
      "metadata": {
        "id": "mg9tdj82iT5a"
      },
      "execution_count": null,
      "outputs": []
    },
    {
      "cell_type": "code",
      "source": [
        "import subprocess\n",
        "import time\n",
        "\n",
        "# Start the Streamlit app in the background\n",
        "process = subprocess.Popen([\"streamlit\", \"run\", \"matrix_app.py\"])\n",
        "\n",
        "# Wait a few seconds to allow the server to start\n",
        "time.sleep(5)\n",
        "\n",
        "# Create a public URL\n",
        "public_url = ngrok.connect(8501)\n",
        "print(f\"✅ Streamlit app available at: {public_url}\")\n"
      ],
      "metadata": {
        "colab": {
          "base_uri": "https://localhost:8080/"
        },
        "id": "oDNELfadiYQC",
        "outputId": "d2cf744e-355f-4b9f-d3bf-725f6e43f520"
      },
      "execution_count": null,
      "outputs": [
        {
          "output_type": "stream",
          "name": "stdout",
          "text": [
            "✅ Streamlit app available at: NgrokTunnel: \"https://3f0778dd602c.ngrok-free.app\" -> \"http://localhost:8501\"\n"
          ]
        }
      ]
    }
  ]
}